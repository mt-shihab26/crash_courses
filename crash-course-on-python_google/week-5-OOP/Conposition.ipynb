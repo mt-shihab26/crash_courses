{
 "cells": [
  {
   "cell_type": "code",
   "execution_count": 1,
   "metadata": {},
   "outputs": [],
   "source": [
    "class Repository:\n",
    "     def __init__(self):\n",
    "         self.packages = {}\n",
    "     def add_package(self, package):\n",
    "         self.packages[package.name] = package\n",
    "     def total_size(self):\n",
    "         result = 0\n",
    "         for package in self.packages.values():\n",
    "             result += package.size\n",
    "         return result"
   ]
  }
 ],
 "metadata": {
  "interpreter": {
   "hash": "59473a1955409db582422d357f4f356958c13ad7a243439b1fb17d7fc9645c62"
  },
  "kernelspec": {
   "display_name": "Python 3.10.1 64-bit ('.env': venv)",
   "language": "python",
   "name": "python3"
  },
  "language_info": {
   "codemirror_mode": {
    "name": "ipython",
    "version": 3
   },
   "file_extension": ".py",
   "mimetype": "text/x-python",
   "name": "python",
   "nbconvert_exporter": "python",
   "pygments_lexer": "ipython3",
   "version": "3.10.1"
  },
  "orig_nbformat": 4
 },
 "nbformat": 4,
 "nbformat_minor": 2
}
