{
 "cells": [
  {
   "cell_type": "code",
   "execution_count": 1,
   "metadata": {},
   "outputs": [],
   "source": [
    "name = \"Sasha\"\n",
    "color = 'gold'"
   ]
  },
  {
   "cell_type": "code",
   "execution_count": 2,
   "metadata": {},
   "outputs": [
    {
     "name": "stdout",
     "output_type": "stream",
     "text": [
      "Name: Sasha, Favorite color: gold\n",
      "exampleexampleexample\n",
      "51\n"
     ]
    }
   ],
   "source": [
    "pet = \"\"\n",
    "pet = \"looooooooooooooooooooooooooooooooooooooooooooog cat\"\n",
    "print(\"Name: \" + name + \", Favorite color: \" + color)\n",
    "print(\"example\" * 3)\n",
    "print(len(pet))"
   ]
  },
  {
   "cell_type": "code",
   "execution_count": 3,
   "metadata": {},
   "outputs": [
    {
     "name": "stdout",
     "output_type": "stream",
     "text": [
      "a\n",
      "J\n",
      "n\n",
      "s\n",
      "r\n"
     ]
    }
   ],
   "source": [
    "name = \"Jaylen\"\n",
    "print(name[1])\n",
    "print(name[0])\n",
    "print(name[5])\n",
    "\n",
    "text = \"Random string with a lot of characters\"\n",
    "print(text[-1])\n",
    "print(text[-2])"
   ]
  },
  {
   "cell_type": "code",
   "execution_count": 4,
   "metadata": {},
   "outputs": [
    {
     "name": "stdout",
     "output_type": "stream",
     "text": [
      "ran\n",
      "Pine\n",
      "apple\n",
      "Pineapple\n"
     ]
    }
   ],
   "source": [
    "color = \"Orange\"\n",
    "print(color[1:4])\n",
    "\n",
    "fruit = \"Pineapple\"\n",
    "print(fruit[:4])\n",
    "print(fruit[4:])\n",
    "print(fruit[:4] + fruit[4:])"
   ]
  },
  {
   "cell_type": "code",
   "execution_count": 5,
   "metadata": {},
   "outputs": [
    {
     "name": "stdout",
     "output_type": "stream",
     "text": [
      "A long string with a silly typo\n",
      "This is a new message\n",
      "And another one\n"
     ]
    }
   ],
   "source": [
    "message = \"A kong string with a silly typo\"\n",
    "# message[2] = \"l\" # error: TypeError: 'str' object does not support item assignment\n",
    "new_message = message[:2] + 'l' + message[3:]\n",
    "print(new_message)\n",
    "\n",
    "message = \"This is a new message\"\n",
    "print(message)\n",
    "message = \"And another one\"\n",
    "print(message)"
   ]
  },
  {
   "cell_type": "code",
   "execution_count": 6,
   "metadata": {},
   "outputs": [
    {
     "name": "stdout",
     "output_type": "stream",
     "text": [
      "5\n",
      "3\n",
      "0\n",
      "False\n",
      "True\n"
     ]
    }
   ],
   "source": [
    "pets = \"Cats & Dogs\"\n",
    "print(pets.index(\"&\"))\n",
    "print(pets.index(\"s\"))\n",
    "print(pets.index(\"Cats\"))\n",
    "# print(pets.index(\"x\"))\n",
    "print(\"Dragons\" in pets)\n",
    "print(\"Cats\" in pets)\n",
    "\n",
    "def replace_domain(email: str, old_domain: str, new_domain: str) -> str:\n",
    "    if \"@\" + old_domain in email:\n",
    "        index = email.index(\"@\" + old_domain)\n",
    "        email = email[:index] + \"@\" + new_domain\n",
    "    return email"
   ]
  },
  {
   "cell_type": "markdown",
   "metadata": {},
   "source": [
    "## More String Methods"
   ]
  },
  {
   "cell_type": "code",
   "execution_count": 7,
   "metadata": {},
   "outputs": [
    {
     "name": "stdout",
     "output_type": "stream",
     "text": [
      "MOUNTAINS\n",
      "mountains\n",
      "User said yes\n"
     ]
    }
   ],
   "source": [
    "print(\"Mountains\".upper())\n",
    "print(\"Mountains\".lower())\n",
    "answer = \"YES\"\n",
    "if answer.lower() == \"yes\":\n",
    "    print(\"User said yes\")"
   ]
  },
  {
   "cell_type": "code",
   "execution_count": 8,
   "metadata": {},
   "outputs": [
    {
     "name": "stdout",
     "output_type": "stream",
     "text": [
      "yes\n",
      "yes  \n",
      "  yes\n"
     ]
    }
   ],
   "source": [
    "print(\"  yes  \".strip())\n",
    "print(\"  yes  \".lstrip())\n",
    "print(\"  yes  \".rstrip())"
   ]
  },
  {
   "cell_type": "code",
   "execution_count": 9,
   "metadata": {},
   "outputs": [
    {
     "name": "stdout",
     "output_type": "stream",
     "text": [
      "4\n"
     ]
    }
   ],
   "source": [
    "print(\"The number of times e occurs in this string in 4\".count(\"e\"))"
   ]
  },
  {
   "cell_type": "code",
   "execution_count": 10,
   "metadata": {},
   "outputs": [
    {
     "name": "stdout",
     "output_type": "stream",
     "text": [
      "True\n"
     ]
    }
   ],
   "source": [
    "print(\"Forest\".endswith(\"rest\"))"
   ]
  },
  {
   "cell_type": "code",
   "execution_count": 11,
   "metadata": {},
   "outputs": [
    {
     "name": "stdout",
     "output_type": "stream",
     "text": [
      "False\n",
      "True\n",
      "12345\n"
     ]
    }
   ],
   "source": [
    "print(\"Forest\".isnumeric())\n",
    "print(\"12345\".isnumeric())\n",
    "print(int(\"12345\"))"
   ]
  },
  {
   "cell_type": "code",
   "execution_count": 12,
   "metadata": {},
   "outputs": [
    {
     "name": "stdout",
     "output_type": "stream",
     "text": [
      "This is a phrasee joined by spaces\n",
      "This...is...a...phrase...joinded...by...triple...dots\n"
     ]
    }
   ],
   "source": [
    "print(\" \".join([\"This\", \"is\", \"a\", \"phrasee\", \"joined\", \"by\", \"spaces\"]))\n",
    "print(\"...\".join([\"This\", \"is\", \"a\", \"phrase\", \"joinded\", \"by\", \"triple\", \"dots\"]))"
   ]
  },
  {
   "cell_type": "code",
   "execution_count": 13,
   "metadata": {},
   "outputs": [
    {
     "name": "stdout",
     "output_type": "stream",
     "text": [
      "['This', 'is', 'another', 'example']\n"
     ]
    }
   ],
   "source": [
    "print(\"This is another example\".split())"
   ]
  },
  {
   "cell_type": "markdown",
   "metadata": {},
   "source": [
    "## Formatting Strings"
   ]
  },
  {
   "cell_type": "code",
   "execution_count": 14,
   "metadata": {},
   "outputs": [
    {
     "data": {
      "text/plain": [
       "'Hello Manny, your lucky number is 15'"
      ]
     },
     "execution_count": 14,
     "metadata": {},
     "output_type": "execute_result"
    }
   ],
   "source": [
    "name = \"Manny\"\n",
    "number = len(name) * 3\n",
    "\"Hello {}, your lucky number is {}\".format(name, number)"
   ]
  },
  {
   "cell_type": "code",
   "execution_count": 15,
   "metadata": {},
   "outputs": [
    {
     "data": {
      "text/plain": [
       "'Your lucky number is 15, Manny'"
      ]
     },
     "execution_count": 15,
     "metadata": {},
     "output_type": "execute_result"
    }
   ],
   "source": [
    "\"Your lucky number is {number}, {name}\".format(name=name, number=len(name)*3)"
   ]
  },
  {
   "cell_type": "code",
   "execution_count": 16,
   "metadata": {},
   "outputs": [
    {
     "name": "stdout",
     "output_type": "stream",
     "text": [
      "7.5 8.175\n",
      "Base price: $7.50 with Tax: $8.18\n"
     ]
    }
   ],
   "source": [
    "price = 7.5\n",
    "with_tax = price * 1.09\n",
    "print(price, with_tax)\n",
    "print(\"Base price: ${:.2f} with Tax: ${:.2f}\".format(price, with_tax))"
   ]
  },
  {
   "cell_type": "code",
   "execution_count": 17,
   "metadata": {},
   "outputs": [
    {
     "name": "stdout",
     "output_type": "stream",
     "text": [
      "  0 F | -17.78 C\n",
      " 10 F | -12.22 C\n",
      " 20 F |  -6.67 C\n",
      " 30 F |  -1.11 C\n",
      " 40 F |   4.44 C\n",
      " 50 F |  10.00 C\n",
      " 60 F |  15.56 C\n",
      " 70 F |  21.11 C\n",
      " 80 F |  26.67 C\n",
      " 90 F |  32.22 C\n",
      "100 F |  37.78 C\n"
     ]
    }
   ],
   "source": [
    "def to_celsius(x):\n",
    "    return (x-32) * 5/9\n",
    "\n",
    "for x in range(0, 101, 10):\n",
    "    print(\"{:>3} F | {:>6.2f} C\".format(x, to_celsius(x)))"
   ]
  },
  {
   "cell_type": "code",
   "execution_count": 18,
   "metadata": {},
   "outputs": [
    {
     "name": "stdout",
     "output_type": "stream",
     "text": [
      "'10'\n",
      "'0.50'\n",
      "'Py'\n",
      "'Py    '\n",
      "'    Py'\n",
      "'  Py  '\n"
     ]
    }
   ],
   "source": [
    "print(\"'{:d}'\".format(10))\n",
    "print(\"'{:.2f}'\".format(0.5))\n",
    "print(\"'{:.2s}'\".format('Python')) \n",
    "print(\"'{:<6s}'\".format('Py'))\n",
    "print(\"'{:>6s}'\".format('Py'))\n",
    "print(\"'{:^6s}'\".format('Py'))"
   ]
  },
  {
   "cell_type": "markdown",
   "metadata": {},
   "source": [
    "Official documentation for [the format string syntax](https://docs.python.org/3/library/string.html#formatstrings)\n",
    "\n",
    "Check out the official documentation for [all available expressions](https://docs.python.org/3/library/string.html#format-specification-mini-language)."
   ]
  },
  {
   "cell_type": "code",
   "execution_count": 19,
   "metadata": {},
   "outputs": [
    {
     "name": "stdout",
     "output_type": "stream",
     "text": [
      "Hello Mircah\n",
      "Item: Purple Cup - Amount: 5 - Price: 16.25\n"
     ]
    }
   ],
   "source": [
    "name = \"Mircah\"\n",
    "print(f\"Hello {name}\")\n",
    "item = \"Purple Cup\"\n",
    "amount = 5\n",
    "price = amount * 3.25\n",
    "print(f\"Item: {item} - Amount: {amount} - Price: {price:.2f}\")"
   ]
  },
  {
   "cell_type": "markdown",
   "metadata": {},
   "source": [
    "Check out the official documentation for [f-strings](https://docs.python.org/3/reference/lexical_analysis.html#f-strings)."
   ]
  }
 ],
 "metadata": {
  "interpreter": {
   "hash": "dbd96a6194ff8ddefbb0967ae5d7df871632c3b4e567b27cc2846540fd4fa27b"
  },
  "kernelspec": {
   "display_name": "Python 3.10.1 64-bit ('.env': venv)",
   "language": "python",
   "name": "python3"
  },
  "language_info": {
   "codemirror_mode": {
    "name": "ipython",
    "version": 3
   },
   "file_extension": ".py",
   "mimetype": "text/x-python",
   "name": "python",
   "nbconvert_exporter": "python",
   "pygments_lexer": "ipython3",
   "version": "3.10.1"
  },
  "orig_nbformat": 4
 },
 "nbformat": 4,
 "nbformat_minor": 2
}
